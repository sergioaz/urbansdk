{
 "cells": [
  {
   "cell_type": "code",
   "id": "5ee0eaa8f2a62f42",
   "metadata": {
    "ExecuteTime": {
     "end_time": "2025-07-24T18:21:31.306424Z",
     "start_time": "2025-07-24T18:21:30.721332Z"
    }
   },
   "source": [
    "# Add this cell before importing mapboxgl\n",
    "import sys\n",
    "from IPython.display import display\n",
    "sys.modules['IPython.core.display'].display = display\n",
    "\n",
    "from mapboxgl.viz import ChoroplethViz\n",
    "from mapboxgl.utils import create_color_stops\n",
    "import requests"
   ],
   "outputs": [],
   "execution_count": 3
  },
  {
   "metadata": {
    "ExecuteTime": {
     "end_time": "2025-07-24T19:35:55.867255Z",
     "start_time": "2025-07-24T19:35:53.607180Z"
    }
   },
   "cell_type": "code",
   "source": [
    "\n",
    "\n",
    "\n",
    "BASE_URL = \"http://localhost:8000\"\n",
    "MAPBOX_TOKEN = \"pk.eyJ1Ijoic21pdGluIiwiYSI6ImNtZGdleTlhMDBtb3oyanE1eWltMGpwb2cifQ.IRKtLVZamkmvUCMuD64Ybg\"\n",
    "params = {\n",
    "\"day\": \"Monday\",\n",
    "\"period\": \"AM Peak\"\n",
    "}\n",
    "response = requests.get(f\"{BASE_URL}/aggregates/\", params=params)\n",
    "geojson_data = response.json()\n",
    "\n"
   ],
   "id": "e39d5ddd5d6f2259",
   "outputs": [],
   "execution_count": 6
  },
  {
   "metadata": {
    "jupyter": {
     "is_executing": true
    },
    "ExecuteTime": {
     "start_time": "2025-07-24T19:43:08.560631Z"
    }
   },
   "cell_type": "code",
   "source": [
    "geojson_data\n",
    "\n",
    "features = [\n",
    "{\n",
    "\"type\": \"Feature\",\n",
    "\"geometry\": f[\"geometry\"],\n",
    "\"properties\": {\n",
    "\"average_speed\": f[\"average_speed\"],\n",
    "\"road_name\": f[\"road_name\"]\n",
    "}\n",
    "} for f in geojson_data\n",
    "]"
   ],
   "id": "e003760163b58df4",
   "outputs": [],
   "execution_count": null
  },
  {
   "metadata": {},
   "cell_type": "code",
   "outputs": [],
   "execution_count": null,
   "source": "",
   "id": "aa171bf3f19f23e2"
  },
  {
   "metadata": {},
   "cell_type": "code",
   "outputs": [],
   "execution_count": null,
   "source": "",
   "id": "e69faafc3abeb2a8"
  },
  {
   "metadata": {},
   "cell_type": "code",
   "outputs": [
    {
     "ename": "TypeError",
     "evalue": "string indices must be integers, not 'str'",
     "output_type": "error",
     "traceback": [
      "\u001B[31m---------------------------------------------------------------------------\u001B[39m",
      "\u001B[31mTypeError\u001B[39m                                 Traceback (most recent call last)",
      "\u001B[36mCell\u001B[39m\u001B[36m \u001B[39m\u001B[32mIn[5]\u001B[39m\u001B[32m, line 15\u001B[39m\n\u001B[32m      7\u001B[39m response = requests.get(\u001B[33mf\u001B[39m\u001B[33m\"\u001B[39m\u001B[38;5;132;01m{\u001B[39;00mBASE_URL\u001B[38;5;132;01m}\u001B[39;00m\u001B[33m/aggregates/\u001B[39m\u001B[33m\"\u001B[39m, params=params)\n\u001B[32m      8\u001B[39m geojson_data = response.json()\n\u001B[32m     12\u001B[39m features = [\n\u001B[32m     13\u001B[39m {\n\u001B[32m     14\u001B[39m \u001B[33m\"\u001B[39m\u001B[33mtype\u001B[39m\u001B[33m\"\u001B[39m: \u001B[33m\"\u001B[39m\u001B[33mFeature\u001B[39m\u001B[33m\"\u001B[39m,\n\u001B[32m---> \u001B[39m\u001B[32m15\u001B[39m \u001B[33m\"\u001B[39m\u001B[33mgeometry\u001B[39m\u001B[33m\"\u001B[39m: \u001B[43mf\u001B[49m\u001B[43m[\u001B[49m\u001B[33;43m\"\u001B[39;49m\u001B[33;43mgeometry\u001B[39;49m\u001B[33;43m\"\u001B[39;49m\u001B[43m]\u001B[49m,\n\u001B[32m     16\u001B[39m \u001B[33m\"\u001B[39m\u001B[33mproperties\u001B[39m\u001B[33m\"\u001B[39m: {\n\u001B[32m     17\u001B[39m \u001B[33m\"\u001B[39m\u001B[33maverage_speed\u001B[39m\u001B[33m\"\u001B[39m: f[\u001B[33m\"\u001B[39m\u001B[33maverage_speed\u001B[39m\u001B[33m\"\u001B[39m],\n\u001B[32m     18\u001B[39m \u001B[33m\"\u001B[39m\u001B[33mroad_name\u001B[39m\u001B[33m\"\u001B[39m: f[\u001B[33m\"\u001B[39m\u001B[33mroad_name\u001B[39m\u001B[33m\"\u001B[39m]\n\u001B[32m     19\u001B[39m }\n\u001B[32m     20\u001B[39m } \u001B[38;5;28;01mfor\u001B[39;00m f \u001B[38;5;129;01min\u001B[39;00m geojson_data\n\u001B[32m     21\u001B[39m ]\n\u001B[32m     22\u001B[39m viz = ChoroplethViz(\n\u001B[32m     23\u001B[39m {\n\u001B[32m     24\u001B[39m \u001B[33m\"\u001B[39m\u001B[33mtype\u001B[39m\u001B[33m\"\u001B[39m: \u001B[33m\"\u001B[39m\u001B[33mFeatureCollection\u001B[39m\u001B[33m\"\u001B[39m,\n\u001B[32m   (...)\u001B[39m\u001B[32m     35\u001B[39m legend_title=\u001B[33m\"\u001B[39m\u001B[33mAverage Speed (mph)\u001B[39m\u001B[33m\"\u001B[39m\n\u001B[32m     36\u001B[39m )\n\u001B[32m     37\u001B[39m viz.show()\n",
      "\u001B[31mTypeError\u001B[39m: string indices must be integers, not 'str'"
     ]
    }
   ],
   "execution_count": 5,
   "source": [
    "viz = ChoroplethViz(\n",
    "{\n",
    "\"type\": \"FeatureCollection\",\n",
    "\"features\": features\n",
    "},\n",
    "access_token=MAPBOX_TOKEN,\n",
    "color_property=\"average_speed\",\n",
    "color_stops=create_color_stops([10, 20, 30, 40, 50],\n",
    "colors=\"Reds\"),\n",
    "center=(-81.6557, 30.3322),\n",
    "zoom=11,\n",
    "line_width=1.5,\n",
    "opacity=0.8,\n",
    "legend_title=\"Average Speed (mph)\"\n",
    ")\n",
    "viz.show()"
   ],
   "id": "initial_id"
  }
 ],
 "metadata": {
  "kernelspec": {
   "display_name": "Python 3",
   "language": "python",
   "name": "python3"
  },
  "language_info": {
   "codemirror_mode": {
    "name": "ipython",
    "version": 2
   },
   "file_extension": ".py",
   "mimetype": "text/x-python",
   "name": "python",
   "nbconvert_exporter": "python",
   "pygments_lexer": "ipython2",
   "version": "2.7.6"
  }
 },
 "nbformat": 4,
 "nbformat_minor": 5
}
